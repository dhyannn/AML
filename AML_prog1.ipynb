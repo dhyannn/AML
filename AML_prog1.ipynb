{
 "cells": [
  {
   "cell_type": "code",
   "execution_count": 2,
   "id": "bd5e887d",
   "metadata": {},
   "outputs": [],
   "source": [
    "import pandas as pd\n",
    "import numpy as np\n",
    "import matplotlib.pyplot as plt\n",
    "import seaborn as sns\n",
    "from sklearn import preprocessing\n",
    "from sklearn.model_selection import train_test_split\n",
    "from sklearn.linear_model import LinearRegression\n",
    "from sklearn.metrics import mean_squared_error, r2_score"
   ]
  },
  {
   "cell_type": "code",
   "execution_count": 3,
   "id": "d1e03972",
   "metadata": {},
   "outputs": [],
   "source": [
    "df=pd.read_csv('Program_1.csv')"
   ]
  },
  {
   "cell_type": "code",
   "execution_count": 4,
   "id": "884d4800",
   "metadata": {},
   "outputs": [
    {
     "data": {
      "text/html": [
       "<div>\n",
       "<style scoped>\n",
       "    .dataframe tbody tr th:only-of-type {\n",
       "        vertical-align: middle;\n",
       "    }\n",
       "\n",
       "    .dataframe tbody tr th {\n",
       "        vertical-align: top;\n",
       "    }\n",
       "\n",
       "    .dataframe thead th {\n",
       "        text-align: right;\n",
       "    }\n",
       "</style>\n",
       "<table border=\"1\" class=\"dataframe\">\n",
       "  <thead>\n",
       "    <tr style=\"text-align: right;\">\n",
       "      <th></th>\n",
       "      <th>Crime_Rate</th>\n",
       "      <th>Zone_proportion</th>\n",
       "      <th>Non_Retail_Acres</th>\n",
       "      <th>CHAS</th>\n",
       "      <th>NOX</th>\n",
       "      <th>Avg_rooms</th>\n",
       "      <th>AGE</th>\n",
       "      <th>Distance</th>\n",
       "      <th>RAD</th>\n",
       "      <th>Property_TaxRate</th>\n",
       "      <th>PTRATIO</th>\n",
       "      <th>B</th>\n",
       "      <th>LSTAT</th>\n",
       "      <th>MValue</th>\n",
       "    </tr>\n",
       "  </thead>\n",
       "  <tbody>\n",
       "    <tr>\n",
       "      <th>0</th>\n",
       "      <td>0.06860</td>\n",
       "      <td>0.0</td>\n",
       "      <td>2.89</td>\n",
       "      <td>0</td>\n",
       "      <td>0.445</td>\n",
       "      <td>7.416</td>\n",
       "      <td>62.5</td>\n",
       "      <td>3.4952</td>\n",
       "      <td>2</td>\n",
       "      <td>276</td>\n",
       "      <td>18.0</td>\n",
       "      <td>396.90</td>\n",
       "      <td>6.19</td>\n",
       "      <td>33.2</td>\n",
       "    </tr>\n",
       "    <tr>\n",
       "      <th>1</th>\n",
       "      <td>0.14866</td>\n",
       "      <td>0.0</td>\n",
       "      <td>8.56</td>\n",
       "      <td>0</td>\n",
       "      <td>0.520</td>\n",
       "      <td>6.727</td>\n",
       "      <td>79.9</td>\n",
       "      <td>2.7778</td>\n",
       "      <td>5</td>\n",
       "      <td>384</td>\n",
       "      <td>20.9</td>\n",
       "      <td>394.76</td>\n",
       "      <td>9.42</td>\n",
       "      <td>27.5</td>\n",
       "    </tr>\n",
       "    <tr>\n",
       "      <th>2</th>\n",
       "      <td>0.11432</td>\n",
       "      <td>0.0</td>\n",
       "      <td>8.56</td>\n",
       "      <td>0</td>\n",
       "      <td>0.520</td>\n",
       "      <td>6.781</td>\n",
       "      <td>71.3</td>\n",
       "      <td>2.8561</td>\n",
       "      <td>5</td>\n",
       "      <td>384</td>\n",
       "      <td>20.9</td>\n",
       "      <td>395.58</td>\n",
       "      <td>7.67</td>\n",
       "      <td>26.5</td>\n",
       "    </tr>\n",
       "    <tr>\n",
       "      <th>3</th>\n",
       "      <td>0.22876</td>\n",
       "      <td>0.0</td>\n",
       "      <td>8.56</td>\n",
       "      <td>0</td>\n",
       "      <td>0.520</td>\n",
       "      <td>6.405</td>\n",
       "      <td>85.4</td>\n",
       "      <td>2.7147</td>\n",
       "      <td>5</td>\n",
       "      <td>384</td>\n",
       "      <td>20.9</td>\n",
       "      <td>70.80</td>\n",
       "      <td>10.63</td>\n",
       "      <td>18.6</td>\n",
       "    </tr>\n",
       "    <tr>\n",
       "      <th>4</th>\n",
       "      <td>0.21161</td>\n",
       "      <td>0.0</td>\n",
       "      <td>8.56</td>\n",
       "      <td>0</td>\n",
       "      <td>0.520</td>\n",
       "      <td>6.137</td>\n",
       "      <td>87.4</td>\n",
       "      <td>2.7147</td>\n",
       "      <td>5</td>\n",
       "      <td>384</td>\n",
       "      <td>20.9</td>\n",
       "      <td>394.47</td>\n",
       "      <td>13.44</td>\n",
       "      <td>19.3</td>\n",
       "    </tr>\n",
       "  </tbody>\n",
       "</table>\n",
       "</div>"
      ],
      "text/plain": [
       "   Crime_Rate  Zone_proportion  Non_Retail_Acres  CHAS    NOX  Avg_rooms  \\\n",
       "0     0.06860              0.0              2.89     0  0.445      7.416   \n",
       "1     0.14866              0.0              8.56     0  0.520      6.727   \n",
       "2     0.11432              0.0              8.56     0  0.520      6.781   \n",
       "3     0.22876              0.0              8.56     0  0.520      6.405   \n",
       "4     0.21161              0.0              8.56     0  0.520      6.137   \n",
       "\n",
       "    AGE  Distance  RAD  Property_TaxRate  PTRATIO       B  LSTAT  MValue  \n",
       "0  62.5    3.4952    2               276     18.0  396.90   6.19    33.2  \n",
       "1  79.9    2.7778    5               384     20.9  394.76   9.42    27.5  \n",
       "2  71.3    2.8561    5               384     20.9  395.58   7.67    26.5  \n",
       "3  85.4    2.7147    5               384     20.9   70.80  10.63    18.6  \n",
       "4  87.4    2.7147    5               384     20.9  394.47  13.44    19.3  "
      ]
     },
     "execution_count": 4,
     "metadata": {},
     "output_type": "execute_result"
    }
   ],
   "source": [
    "df.head()"
   ]
  },
  {
   "cell_type": "code",
   "execution_count": 6,
   "id": "cad77aa7",
   "metadata": {},
   "outputs": [
    {
     "data": {
      "image/png": "[encoded data removed]",
      "text/plain": [
       "<Figure size 640x480 with 1 Axes>"
      ]
     },
     "metadata": {},
     "output_type": "display_data"
    }
   ],
   "source": [
    "# Assuming your dataset is named 'data'\n",
    "sns.scatterplot(x='Avg_rooms', y='MValue', data=df)\n",
    "plt.title('Scatter plot of Avg_rooms vs MValue')\n",
    "plt.show()"
   ]
  },
  {
   "cell_type": "code",
   "execution_count": 7,
   "id": "1cc6c5db",
   "metadata": {},
   "outputs": [],
   "source": [
    "# Assuming 'X' contains the predictor and 'y' contains the target\n",
    "X = df[['Avg_rooms']]\n",
    "y = df['MValue']\n",
    "\n",
    "# Split the data into train and test sets\n",
    "X_train, X_test, y_train, y_test = train_test_split(X, y, test_size=0.3, random_state=42)\n"
   ]
  },
  {
   "cell_type": "code",
   "execution_count": 8,
   "id": "e2aa9ee6",
   "metadata": {},
   "outputs": [
    {
     "data": {
      "text/plain": [
       "LinearRegression()"
      ]
     },
     "execution_count": 8,
     "metadata": {},
     "output_type": "execute_result"
    }
   ],
   "source": [
    "# Create a linear regression model\n",
    "model = LinearRegression()\n",
    "\n",
    "# Fit the model on the training data\n",
    "model.fit(X_train, y_train)"
   ]
  },
  {
   "cell_type": "code",
   "execution_count": 9,
   "id": "c8a95215",
   "metadata": {},
   "outputs": [
    {
     "name": "stdout",
     "output_type": "stream",
     "text": [
      "Coefficient: 8.926202222337784\n",
      "Intercept: -33.510147597513345\n"
     ]
    }
   ],
   "source": [
    "# Coefficient and intercept values\n",
    "coef = model.coef_[0]\n",
    "intercept = model.intercept_\n",
    "\n",
    "print(f'Coefficient: {coef}')\n",
    "print(f'Intercept: {intercept}')"
   ]
  },
  {
   "cell_type": "code",
   "execution_count": 10,
   "id": "faa0c11b",
   "metadata": {},
   "outputs": [
    {
     "name": "stdout",
     "output_type": "stream",
     "text": [
      "Mean Squared Error (Training): 47.81170547959663\n",
      "Mean Squared Error (Testing): 33.853804802145724\n",
      "R-squared (Training): 0.46176397399316227\n",
      "R-squared (Testing): 0.5424461839891813\n"
     ]
    }
   ],
   "source": [
    "# Predictions on the training set\n",
    "y_train_pred = model.predict(X_train)\n",
    "\n",
    "# Predictions on the test set\n",
    "y_test_pred = model.predict(X_test)\n",
    "\n",
    "# Mean Squared Error on training set\n",
    "mse_train = mean_squared_error(y_train, y_train_pred)\n",
    "\n",
    "# Mean Squared Error on test set\n",
    "mse_test = mean_squared_error(y_test, y_test_pred)\n",
    "\n",
    "# R-squared values\n",
    "r2_train = r2_score(y_train, y_train_pred)\n",
    "r2_test = r2_score(y_test, y_test_pred)\n",
    "\n",
    "print(f'Mean Squared Error (Training): {mse_train}')\n",
    "print(f'Mean Squared Error (Testing): {mse_test}')\n",
    "print(f'R-squared (Training): {r2_train}')\n",
    "print(f'R-squared (Testing): {r2_test}')\n"
   ]
  },
  {
   "cell_type": "code",
   "execution_count": null,
   "id": "01d89adf",
   "metadata": {},
   "outputs": [],
   "source": [
    "#Classification Accuracy: The accuracy rate provides the proportion of correctly classified instances. It gives an overall idea of model performance.\n",
    "\n",
    "#Classification Report: This report provides precision, recall, and F1-score for each class ('No' and 'Yes'). It gives more insights into how well the model performs for each class.\n",
    "\n",
    "#Confusion Matrix: It shows the number of true positives, true negatives, false positives, and false negatives. This can help identify which types of errors the model is making."
   ]
  }
 ],
 "metadata": {
  "kernelspec": {
   "display_name": "Python 3 (ipykernel)",
   "language": "python",
   "name": "python3"
  },
  "language_info": {
   "codemirror_mode": {
    "name": "ipython",
    "version": 3
   },
   "file_extension": ".py",
   "mimetype": "text/x-python",
   "name": "python",
   "nbconvert_exporter": "python",
   "pygments_lexer": "ipython3",
   "version": "3.9.13"
  }
 },
 "nbformat": 4,
 "nbformat_minor": 5
}
